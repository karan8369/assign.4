{
 "cells": [
  {
   "cell_type": "code",
   "execution_count": null,
   "id": "574e7f42",
   "metadata": {},
   "outputs": [],
   "source": [
    "class ComplexNumber:\n",
    "    def __init__(self,real,imaginary):\n",
    "        self.real = real\n",
    "        self.imaginary = imaginary\n",
    "    def __add__(self,other):\n",
    "        real_sum = self.real + other.real\n",
    "        imag_sum = self.imaginary + other.imaginary\n",
    "        return ComplexNumber(real_sum,imag_sum)\n",
    "    def __sub__(self,other):\n",
    "        real_diff = self.real - other.real\n",
    "        imag_diff = self.imaginary - other.imaginary\n",
    "        return ComplexNumber(real_diff,imag_diff)\n",
    "    def __mul__(self,other):\n",
    "        real_prod = self.real*other.real - self.imaginary*other.imaginay\n",
    "        imag_prod = self.real*other.imaginary + self.imaginary*other.real\n",
    "        return ComplexNumber(real_prod,imag_prod)\n",
    "    def __truediv__(self,other):\n",
    "        divisor = other.real**2 + other.imaginary**2\n",
    "        real_div = (self.real *other.real + self.imaginary*other.imaginary)/divisor\n",
    "        imag_div = (self.imaginary*other.real - self.real*other.imaginary)/divisor\n",
    "        return ComplexNumber(real_div,imag_div)\n",
    "    def modulus(self):\n",
    "        mod = (self.real**2 + self.imaginary**2)**0.5\n",
    "        return mod\n",
    "    def __str__(self):\n",
    "        if self.imaginary == 0:\n",
    "            result = \"{:.2f} + 0.00i\".format(self.real)\n",
    "        elif self.real == 0:\n",
    "            result = \"0.00{:+.2f}i\".format(self.imaginary)\n",
    "        elif self.imaginary > 0:\n",
    "            result = \"{:.2f}+{:.2f}i\".format(self.real, self.imaginary)\n",
    "        else:\n",
    "            result = \"{:.2f}{:.2f}i\".format(self.real, self.imaginary)\n",
    "            return result\n",
    "c1_real, c1_imag = map(float,input().split())\n",
    "c2_real, c2_imag = map(float,input().split())\n",
    "c1 = ComplexNumber(c1_real, c1_imag)\n",
    "c2 = ComplexNumber(c2_real, c2_imag)\n",
    "print(str(c1 + c2))\n",
    "print(str(c1 - c2))\n",
    "print(str(c1 * c2))\n",
    "print(str(c1 / c2))\n",
    "print(str(round(c1.modulus(),2))+\"+0.00i\")\n",
    "print(str(round(c2.modulus(),2))+\"0.00i\")\n",
    "            \n",
    "    "
   ]
  },
  {
   "cell_type": "code",
   "execution_count": null,
   "id": "4ea7046c",
   "metadata": {},
   "outputs": [],
   "source": []
  },
  {
   "cell_type": "code",
   "execution_count": null,
   "id": "47cdfd7e",
   "metadata": {},
   "outputs": [],
   "source": []
  }
 ],
 "metadata": {
  "kernelspec": {
   "display_name": "Python 3 (ipykernel)",
   "language": "python",
   "name": "python3"
  },
  "language_info": {
   "codemirror_mode": {
    "name": "ipython",
    "version": 3
   },
   "file_extension": ".py",
   "mimetype": "text/x-python",
   "name": "python",
   "nbconvert_exporter": "python",
   "pygments_lexer": "ipython3",
   "version": "3.10.9"
  }
 },
 "nbformat": 4,
 "nbformat_minor": 5
}
